{
 "cells": [
  {
   "cell_type": "code",
   "execution_count": 1,
   "metadata": {},
   "outputs": [],
   "source": [
    "import numpy as np\n",
    "import pandas as pd\n",
    "import cv2\n",
    "import matplotlib.pyplot as plt\n",
    "import matplotlib.image as mpimg\n",
    "from tqdm.notebook import tqdm\n",
    "import os"
   ]
  },
  {
   "cell_type": "code",
   "execution_count": 3,
   "metadata": {},
   "outputs": [],
   "source": [
    "DATA_PATH = \"data/\"\n",
    "TRAIN_VIDEO =  os.path.join(DATA_PATH,\"train.mp4\")\n",
    "TEST_VIDEO = os.path.join(DATA_PATH,\"test.mp4\")\n",
    "TRAIN_SPEED_TXT = os.path.join(DATA_PATH,\"train.txt\")\n",
    "TRAIN_FRAMES_DIR = \"frames/train_mp4/\"\n",
    "TEST_FRAMES_DIR = \"frames/test_mp4/\"\n",
    "FPS = 20\n",
    "train_frames = 20400\n",
    "test_frames = 10798\n",
    "\n",
    "\n",
    "def toframes(dataset_type):\n",
    "    if \"train\" in  dataset_type:\n",
    "        outdir = \"frames/train_mp4/\"\n",
    "    elif \"test\" in dataset_type:\n",
    "        outdir = \"frames/test_mp4/\"\n",
    "    \n",
    "    vid = cv2.VideoCapture(os.path.join(DATA_PATH,dataset_type+\".mp4\"))\n",
    "    success,img = vid.read()\n",
    "    count = 0\n",
    "    while success:\n",
    "        cv2.imwrite(outdir+\"frame%d.jpg\"%count, img)\n",
    "        success, img = vid.read()\n",
    "        if count % 100 == 0:\n",
    "            print(\"reading a new frame: \", count)\n",
    "        count += 1\n",
    "    print(\"done\")\n",
    "    return \"done\"\n",
    "\n",
    "def frameshow_matplot(frame_n,dir_name = \"frames/train_mp4/\"):\n",
    "    if not isinstance(frame_n,list):\n",
    "        frame_n = [frame_n]\n",
    "    \n",
    "    for fn in frame_n:\n",
    "        img = mpimg.imread(f\"frames/train_mp4/frame{fn}.jpg\")\n",
    "        #img = cv2.cvtColor(img, cv2.COLOR_BGR2RGB)\n",
    "        plt.axis(\"off\")\n",
    "        plt.imshow(img)\n",
    "        plt.show()"
   ]
  },
  {
   "cell_type": "code",
   "execution_count": null,
   "metadata": {},
   "outputs": [],
   "source": []
  }
 ],
 "metadata": {
  "kernelspec": {
   "display_name": "Python 3",
   "language": "python",
   "name": "python3"
  },
  "language_info": {
   "codemirror_mode": {
    "name": "ipython",
    "version": 3
   },
   "file_extension": ".py",
   "mimetype": "text/x-python",
   "name": "python",
   "nbconvert_exporter": "python",
   "pygments_lexer": "ipython3",
   "version": "3.7.7"
  }
 },
 "nbformat": 4,
 "nbformat_minor": 4
}
